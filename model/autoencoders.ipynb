{
 "cells": [
  {
   "cell_type": "code",
   "execution_count": 15,
   "metadata": {},
   "outputs": [],
   "source": [
    "import pandas as pd\n",
    "import numpy as np\n",
    "from sklearn.preprocessing import StandardScaler, LabelEncoder\n",
    "from sklearn.model_selection import train_test_split\n",
    "from keras.models import Sequential, Model\n",
    "from keras.layers import Input, Dense\n",
    "from sklearn.metrics import mean_squared_error"
   ]
  },
  {
   "cell_type": "code",
   "execution_count": 16,
   "metadata": {},
   "outputs": [],
   "source": [
    "# Load the log dataset (replace with your dataset file)\n",
    "data = pd.read_csv('../dataset/log_data.csv')"
   ]
  },
  {
   "cell_type": "code",
   "execution_count": 17,
   "metadata": {},
   "outputs": [],
   "source": [
    "# Convert timestamp to datetime objects\n",
    "data['timestamp'] = pd.to_datetime(data['timestamp'])"
   ]
  },
  {
   "cell_type": "code",
   "execution_count": 18,
   "metadata": {},
   "outputs": [],
   "source": [
    "# Calculate time difference in seconds from the minimum timestamp\n",
    "min_timestamp = data['timestamp'].min()\n",
    "data['time_diff'] = (data['timestamp'] - min_timestamp).dt.total_seconds()"
   ]
  },
  {
   "cell_type": "code",
   "execution_count": 19,
   "metadata": {},
   "outputs": [],
   "source": [
    "# Select relevant features for anomaly detection\n",
    "# In this case, we'll use time_diff, activity, and username\n",
    "features = data[['time_diff', 'activity', 'username']]"
   ]
  },
  {
   "cell_type": "code",
   "execution_count": 20,
   "metadata": {},
   "outputs": [
    {
     "name": "stderr",
     "output_type": "stream",
     "text": [
      "C:\\Users\\arunh\\AppData\\Local\\Temp\\ipykernel_9636\\1446478807.py:5: SettingWithCopyWarning: \n",
      "A value is trying to be set on a copy of a slice from a DataFrame.\n",
      "Try using .loc[row_indexer,col_indexer] = value instead\n",
      "\n",
      "See the caveats in the documentation: https://pandas.pydata.org/pandas-docs/stable/user_guide/indexing.html#returning-a-view-versus-a-copy\n",
      "  features[col] = label_encoders[col].fit_transform(features[col])\n",
      "C:\\Users\\arunh\\AppData\\Local\\Temp\\ipykernel_9636\\1446478807.py:5: SettingWithCopyWarning: \n",
      "A value is trying to be set on a copy of a slice from a DataFrame.\n",
      "Try using .loc[row_indexer,col_indexer] = value instead\n",
      "\n",
      "See the caveats in the documentation: https://pandas.pydata.org/pandas-docs/stable/user_guide/indexing.html#returning-a-view-versus-a-copy\n",
      "  features[col] = label_encoders[col].fit_transform(features[col])\n"
     ]
    }
   ],
   "source": [
    "# Convert categorical features to numerical using label encoding\n",
    "label_encoders = {}\n",
    "for col in ['activity', 'username']:\n",
    "    label_encoders[col] = LabelEncoder()\n",
    "    features[col] = label_encoders[col].fit_transform(features[col])"
   ]
  },
  {
   "cell_type": "code",
   "execution_count": 21,
   "metadata": {},
   "outputs": [],
   "source": [
    "# Standardize the features\n",
    "scaler = StandardScaler()\n",
    "scaled_features = scaler.fit_transform(features)"
   ]
  },
  {
   "cell_type": "code",
   "execution_count": 22,
   "metadata": {},
   "outputs": [],
   "source": [
    "# Split the data into train and test sets\n",
    "X_train, X_test = train_test_split(scaled_features, test_size=0.2, random_state=42)\n"
   ]
  },
  {
   "cell_type": "code",
   "execution_count": 23,
   "metadata": {},
   "outputs": [],
   "source": [
    "# Build the autoencoder model\n",
    "input_dim = X_train.shape[1]\n",
    "encoding_dim = 10  # Adjust based on your data complexity\n",
    "autoencoder = Sequential()\n",
    "autoencoder.add(Dense(encoding_dim, input_shape=(input_dim,), activation='relu'))\n",
    "autoencoder.add(Dense(input_dim, activation='linear'))\n",
    "autoencoder.compile(optimizer='adam', loss='mean_squared_error')"
   ]
  },
  {
   "cell_type": "code",
   "execution_count": 24,
   "metadata": {},
   "outputs": [
    {
     "name": "stdout",
     "output_type": "stream",
     "text": [
      "Epoch 1/50\n",
      "250/250 [==============================] - 1s 2ms/step - loss: 0.4057 - val_loss: 0.1530\n",
      "Epoch 2/50\n",
      "250/250 [==============================] - 0s 1ms/step - loss: 0.0924 - val_loss: 0.0556\n",
      "Epoch 3/50\n",
      "250/250 [==============================] - 0s 1ms/step - loss: 0.0389 - val_loss: 0.0266\n",
      "Epoch 4/50\n",
      "250/250 [==============================] - 0s 1ms/step - loss: 0.0194 - val_loss: 0.0145\n",
      "Epoch 5/50\n",
      "250/250 [==============================] - 0s 1ms/step - loss: 0.0113 - val_loss: 0.0093\n",
      "Epoch 6/50\n",
      "250/250 [==============================] - 0s 1ms/step - loss: 0.0077 - val_loss: 0.0067\n",
      "Epoch 7/50\n",
      "250/250 [==============================] - 0s 1ms/step - loss: 0.0057 - val_loss: 0.0050\n",
      "Epoch 8/50\n",
      "250/250 [==============================] - 0s 1ms/step - loss: 0.0045 - val_loss: 0.0039\n",
      "Epoch 9/50\n",
      "250/250 [==============================] - 0s 1ms/step - loss: 0.0036 - val_loss: 0.0031\n",
      "Epoch 10/50\n",
      "250/250 [==============================] - 0s 1ms/step - loss: 0.0028 - val_loss: 0.0025\n",
      "Epoch 11/50\n",
      "250/250 [==============================] - 0s 1ms/step - loss: 0.0022 - val_loss: 0.0019\n",
      "Epoch 12/50\n",
      "250/250 [==============================] - 0s 1ms/step - loss: 0.0016 - val_loss: 0.0013\n",
      "Epoch 13/50\n",
      "250/250 [==============================] - 0s 1ms/step - loss: 0.0011 - val_loss: 8.0143e-04\n",
      "Epoch 14/50\n",
      "250/250 [==============================] - 0s 1ms/step - loss: 6.2140e-04 - val_loss: 4.2168e-04\n",
      "Epoch 15/50\n",
      "250/250 [==============================] - 0s 2ms/step - loss: 3.0511e-04 - val_loss: 1.9548e-04\n",
      "Epoch 16/50\n",
      "250/250 [==============================] - 0s 2ms/step - loss: 1.4418e-04 - val_loss: 9.5422e-05\n",
      "Epoch 17/50\n",
      "250/250 [==============================] - 0s 1ms/step - loss: 7.5119e-05 - val_loss: 5.3127e-05\n",
      "Epoch 18/50\n",
      "250/250 [==============================] - 0s 2ms/step - loss: 4.5851e-05 - val_loss: 3.4815e-05\n",
      "Epoch 19/50\n",
      "250/250 [==============================] - 0s 1ms/step - loss: 3.1428e-05 - val_loss: 2.4561e-05\n",
      "Epoch 20/50\n",
      "250/250 [==============================] - 0s 1ms/step - loss: 2.2520e-05 - val_loss: 1.7613e-05\n",
      "Epoch 21/50\n",
      "250/250 [==============================] - 0s 1ms/step - loss: 1.6479e-05 - val_loss: 1.2888e-05\n",
      "Epoch 22/50\n",
      "250/250 [==============================] - 0s 1ms/step - loss: 1.1954e-05 - val_loss: 9.8740e-06\n",
      "Epoch 23/50\n",
      "250/250 [==============================] - 0s 1ms/step - loss: 8.7564e-06 - val_loss: 6.7796e-06\n",
      "Epoch 24/50\n",
      "250/250 [==============================] - 0s 1ms/step - loss: 6.1936e-06 - val_loss: 4.7268e-06\n",
      "Epoch 25/50\n",
      "250/250 [==============================] - 0s 1ms/step - loss: 4.3641e-06 - val_loss: 3.2558e-06\n",
      "Epoch 26/50\n",
      "250/250 [==============================] - 0s 1ms/step - loss: 2.9720e-06 - val_loss: 2.2851e-06\n",
      "Epoch 27/50\n",
      "250/250 [==============================] - 0s 1ms/step - loss: 1.9969e-06 - val_loss: 1.4047e-06\n",
      "Epoch 28/50\n",
      "250/250 [==============================] - 0s 1ms/step - loss: 1.2838e-06 - val_loss: 9.7431e-07\n",
      "Epoch 29/50\n",
      "250/250 [==============================] - 0s 1ms/step - loss: 7.5585e-07 - val_loss: 5.0980e-07\n",
      "Epoch 30/50\n",
      "250/250 [==============================] - 0s 1ms/step - loss: 4.2647e-07 - val_loss: 2.8613e-07\n",
      "Epoch 31/50\n",
      "250/250 [==============================] - 0s 1ms/step - loss: 2.3043e-07 - val_loss: 1.4465e-07\n",
      "Epoch 32/50\n",
      "250/250 [==============================] - 0s 1ms/step - loss: 1.1363e-07 - val_loss: 6.6876e-08\n",
      "Epoch 33/50\n",
      "250/250 [==============================] - 0s 1ms/step - loss: 5.0235e-08 - val_loss: 3.2236e-08\n",
      "Epoch 34/50\n",
      "250/250 [==============================] - 0s 1ms/step - loss: 2.0217e-08 - val_loss: 1.1431e-08\n",
      "Epoch 35/50\n",
      "250/250 [==============================] - 0s 1ms/step - loss: 7.6639e-09 - val_loss: 4.2597e-09\n",
      "Epoch 36/50\n",
      "250/250 [==============================] - 0s 1ms/step - loss: 2.4047e-09 - val_loss: 1.5109e-09\n",
      "Epoch 37/50\n",
      "250/250 [==============================] - 0s 1ms/step - loss: 7.5334e-10 - val_loss: 5.1277e-10\n",
      "Epoch 38/50\n",
      "250/250 [==============================] - 0s 1ms/step - loss: 1.9867e-10 - val_loss: 1.9101e-10\n",
      "Epoch 39/50\n",
      "250/250 [==============================] - 0s 1ms/step - loss: 5.8232e-11 - val_loss: 6.8288e-11\n",
      "Epoch 40/50\n",
      "250/250 [==============================] - 0s 1ms/step - loss: 1.7835e-11 - val_loss: 6.4425e-11\n",
      "Epoch 41/50\n",
      "250/250 [==============================] - 0s 1ms/step - loss: 1.0081e-11 - val_loss: 1.7357e-11\n",
      "Epoch 42/50\n",
      "250/250 [==============================] - 0s 1ms/step - loss: 4.2523e-12 - val_loss: 9.1849e-12\n",
      "Epoch 43/50\n",
      "250/250 [==============================] - 0s 1ms/step - loss: 2.9767e-12 - val_loss: 4.6485e-12\n",
      "Epoch 44/50\n",
      "250/250 [==============================] - 0s 1ms/step - loss: 1.6074e-12 - val_loss: 4.9471e-12\n",
      "Epoch 45/50\n",
      "250/250 [==============================] - 0s 1ms/step - loss: 2.0679e-12 - val_loss: 3.8941e-12\n",
      "Epoch 46/50\n",
      "250/250 [==============================] - 0s 1ms/step - loss: 8.6960e-13 - val_loss: 2.0649e-12\n",
      "Epoch 47/50\n",
      "250/250 [==============================] - 0s 1ms/step - loss: 1.7194e-08 - val_loss: 3.6987e-07\n",
      "Epoch 48/50\n",
      "250/250 [==============================] - 0s 1ms/step - loss: 2.0223e-06 - val_loss: 4.1395e-06\n",
      "Epoch 49/50\n",
      "250/250 [==============================] - 0s 1ms/step - loss: 3.5094e-07 - val_loss: 1.0926e-09\n",
      "Epoch 50/50\n",
      "250/250 [==============================] - 0s 1ms/step - loss: 2.4789e-10 - val_loss: 8.3465e-11\n"
     ]
    },
    {
     "data": {
      "text/plain": [
       "<keras.callbacks.History at 0x2677de58190>"
      ]
     },
     "execution_count": 24,
     "metadata": {},
     "output_type": "execute_result"
    }
   ],
   "source": [
    "# Train the autoencoder\n",
    "autoencoder.fit(X_train, X_train, epochs=50, batch_size=32, shuffle=True, validation_data=(X_test, X_test))"
   ]
  },
  {
   "cell_type": "code",
   "execution_count": 25,
   "metadata": {},
   "outputs": [],
   "source": [
    "autoencoder.save('autoencoder_model.h5')"
   ]
  },
  {
   "cell_type": "code",
   "execution_count": 26,
   "metadata": {},
   "outputs": [
    {
     "name": "stdout",
     "output_type": "stream",
     "text": [
      "313/313 [==============================] - 0s 806us/step\n"
     ]
    }
   ],
   "source": [
    "# Reconstruct the data using the trained autoencoder\n",
    "reconstructed_data = autoencoder.predict(scaled_features)\n",
    "mse = np.mean(np.power(scaled_features - reconstructed_data, 2), axis=1)\n"
   ]
  },
  {
   "cell_type": "code",
   "execution_count": 27,
   "metadata": {},
   "outputs": [],
   "source": [
    "# Define a threshold to identify anomalies\n",
    "threshold = np.percentile(mse, 95)  # Adjust based on your data"
   ]
  },
  {
   "cell_type": "code",
   "execution_count": 28,
   "metadata": {},
   "outputs": [
    {
     "name": "stdout",
     "output_type": "stream",
     "text": [
      "Anomalies:\n",
      "               timestamp      activity          username        source_ip  \\\n",
      "20   2023-01-25 07:35:07   ProductView         zsheppard   166.16.220.249   \n",
      "22   2023-06-04 11:32:37   ProductView          alexis64  112.217.112.210   \n",
      "57   2023-03-05 07:52:45  AccessDenied     underwoodjohn   205.87.244.162   \n",
      "73   2023-02-01 21:51:53  AccessDenied       thomasowens    11.97.211.168   \n",
      "96   2023-01-21 03:08:19  AccessDenied         stacyholt     50.188.52.59   \n",
      "...                  ...           ...               ...              ...   \n",
      "9811 2023-03-13 18:58:59  AccessDenied          yhammond    191.215.22.40   \n",
      "9888 2023-02-08 07:41:35  AccessDenied       walshshelby   145.189.39.201   \n",
      "9940 2023-01-18 18:52:18  AccessDenied        raysanders   92.103.120.131   \n",
      "9974 2023-01-25 13:57:07  AccessDenied  richardrodriguez    64.166.90.107   \n",
      "9976 2023-01-30 09:12:18   OrderPlaced           wendy17   199.27.255.238   \n",
      "\n",
      "       action   result   time_diff  \n",
      "20     Failed  Success   2100522.0  \n",
      "22    Success  Success  13346772.0  \n",
      "57    Success  Success   5471180.0  \n",
      "73    Success  Success   2756728.0  \n",
      "96     Failed  Success   1738914.0  \n",
      "...       ...      ...         ...  \n",
      "9811  Success   Failed   6202354.0  \n",
      "9888  Success  Success   3310510.0  \n",
      "9940  Success   Failed   1536353.0  \n",
      "9974  Success  Success   2123442.0  \n",
      "9976   Failed  Success   2538353.0  \n",
      "\n",
      "[500 rows x 7 columns]\n"
     ]
    }
   ],
   "source": [
    "# Identify anomalies\n",
    "anomalies = data[mse > threshold]\n",
    "print(\"Anomalies:\")\n",
    "print(anomalies)"
   ]
  }
 ],
 "metadata": {
  "kernelspec": {
   "display_name": "Python 3",
   "language": "python",
   "name": "python3"
  },
  "language_info": {
   "codemirror_mode": {
    "name": "ipython",
    "version": 3
   },
   "file_extension": ".py",
   "mimetype": "text/x-python",
   "name": "python",
   "nbconvert_exporter": "python",
   "pygments_lexer": "ipython3",
   "version": "3.10.11"
  },
  "orig_nbformat": 4
 },
 "nbformat": 4,
 "nbformat_minor": 2
}
